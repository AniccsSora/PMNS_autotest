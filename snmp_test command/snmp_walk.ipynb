{
 "cells": [
  {
   "cell_type": "code",
   "execution_count": null,
   "id": "30057c85-7ba2-42b4-80a8-e1fc3dc4b76a",
   "metadata": {},
   "outputs": [],
   "source": [
    "from snmp_util import SNMP_runner\n",
    "from data_struct import Field\n",
    "import subprocess"
   ]
  },
  {
   "cell_type": "code",
   "execution_count": null,
   "id": "fbe47656-048c-4505-84e7-9e46e9d16f3c",
   "metadata": {},
   "outputs": [],
   "source": [
    "%load_ext autoreload"
   ]
  },
  {
   "cell_type": "code",
   "execution_count": null,
   "id": "04d68e7d-f816-415d-85a5-d2b700b359a2",
   "metadata": {},
   "outputs": [],
   "source": [
    "%autoreload 2"
   ]
  },
  {
   "cell_type": "code",
   "execution_count": null,
   "id": "70e2be9e-37e0-454b-9b4d-e1320317edec",
   "metadata": {},
   "outputs": [],
   "source": [
    "# test connected\n",
    "command = \"snmpwalk -v1 -c public -m +IMP-HF528-MIB 172.16.10.8 sysUpTime\"\n",
    "token = subprocess.Popen(command)\n",
    "print('Command success: {}'.format(token.returncode is None))\n",
    "print(subprocess.check_output(command).decode('utf-8'))"
   ]
  },
  {
   "cell_type": "code",
   "execution_count": 173,
   "id": "b115cb15-341b-48dc-b3e2-c6454e29288d",
   "metadata": {},
   "outputs": [
    {
     "name": "stdout",
     "output_type": "stream",
     "text": [
      "snmp runtime path: C:\\usr\\bin\n",
      "============= init =============\n",
      "\n",
      "self.__recoder_enable: False\n",
      "C:\\usr\\bin>snmpwalk -v1 -c public -m +IMP-HF528-MIB 172.16.10.8 sysUpTime\n",
      "DISMAN-EVENT-MIB::sysUpTimeInstance = Timeticks: (23648756) 2 days, 17:41:27.56\n",
      "\n"
     ]
    }
   ],
   "source": [
    "snmp = SNMP_runner()\n",
    "snmp.walk(\"sysUpTime\")"
   ]
  },
  {
   "cell_type": "code",
   "execution_count": null,
   "id": "d23afabc-9dd1-4f5b-975e-227dd5749855",
   "metadata": {},
   "outputs": [],
   "source": [
    "# set table\n",
    "set_fields = [\n",
    "    Field(fname='iswStpPortPriority', val=240, dtype='int'),\n",
    "    Field(fname='iswStpPortEnable', val=0),  # d 1 enable\n",
    "    Field(fname='iswStpPortPathCost', val=200000000, dtype='int'),  # 1 .. 200000000, d 20000\n",
    "    Field(fname='iswStpPortEdgeType', val=1, dtype='int'),  #d 0\n",
    "]\n",
    "\n",
    "idx = 28\n",
    "print(\"# show\")\n",
    "snmp.walk('iswStpPortTable')\n",
    "\n",
    "print(f\"# set entry {idx}\")\n",
    "snmp.set_table(idx=idx, set_fields=set_fields, row_status=None)\n",
    "\n",
    "print(\"# show\")\n",
    "snmp.walk('iswStpPortTable')"
   ]
  },
  {
   "cell_type": "code",
   "execution_count": null,
   "id": "73d716d5-d8e8-423c-8131-ccf7ad1b18bd",
   "metadata": {},
   "outputs": [],
   "source": [
    "# walk\n",
    "test_obj_name = 'iswIfStatsTable'\n",
    "#snmp.set(test_obj_name, 28, 1)\n",
    "snmp.walk(test_obj_name)\n"
   ]
  },
  {
   "cell_type": "code",
   "execution_count": 177,
   "id": "930d5a7a-a6da-4ac0-bb89-fad5c88939aa",
   "metadata": {},
   "outputs": [
    {
     "name": "stdout",
     "output_type": "stream",
     "text": [
      "# show origin\n",
      "self.__recoder_enable: False\n",
      "# get\n",
      "C:\\usr\\bin>snmpget -v1 -c public -m +IMP-HF528-MIB 172.16.10.8 iswQueueShaperMode.1\n",
      "IMP-HF528-MIB::iswQueueShaperMode.iswGEPort-1 = INTEGER: disable(0)\n",
      "\n",
      " ========================\n",
      "self.__recoder_enable: True\n",
      "recode !!\n",
      "# set\n",
      "C:\\usr\\bin>snmpset -v1 -c public -m +IMP-HF528-MIB 172.16.10.8 iswQueueShaperMode.1 = 1\n",
      "IMP-HF528-MIB::iswQueueShaperMode.iswGEPort-1 = INTEGER: enable(1)\n",
      "\n",
      "self.__recoder_enable: True\n",
      "recode !!\n",
      "# get\n",
      "C:\\usr\\bin>snmpget -v1 -c public -m +IMP-HF528-MIB 172.16.10.8 iswQueueShaperMode.1\n",
      "IMP-HF528-MIB::iswQueueShaperMode.iswGEPort-1 = INTEGER: enable(1)\n",
      "\n",
      "self.__recoder_enable: True\n",
      "recode !!\n",
      "# set\n",
      "C:\\usr\\bin>snmpset -v1 -c public -m +IMP-HF528-MIB 172.16.10.8 iswQueueShaperMode.1 = 0\n",
      "IMP-HF528-MIB::iswQueueShaperMode.iswGEPort-1 = INTEGER: disable(0)\n",
      "\n",
      "self.__recoder_enable: True\n",
      "recode !!\n",
      "# get\n",
      "C:\\usr\\bin>snmpget -v1 -c public -m +IMP-HF528-MIB 172.16.10.8 iswQueueShaperMode.1\n",
      "IMP-HF528-MIB::iswQueueShaperMode.iswGEPort-1 = INTEGER: disable(0)\n",
      "\n",
      "snmpset -v1 -c public -m +IMP-HF528-MIB 172.16.10.8 iswQueueShaperMode.1 = 1\n",
      "snmpget -v1 -c public -m +IMP-HF528-MIB 172.16.10.8 iswQueueShaperMode.1\n",
      "snmpset -v1 -c public -m +IMP-HF528-MIB 172.16.10.8 iswQueueShaperMode.1 = 0\n",
      "snmpget -v1 -c public -m +IMP-HF528-MIB 172.16.10.8 iswQueueShaperMode.1\n",
      "exc_type, exc_val, exc_tb: None None None\n"
     ]
    }
   ],
   "source": [
    "# 想像用\n",
    "# enable disable test\n",
    "test_obj_name = 'iswQueueShaperMode'\n",
    "test_idx = 1\n",
    "# \n",
    "print(\"# show origin\")\n",
    "snmp.get(test_obj_name, test_idx)\n",
    "print(\" ========================\")\n",
    "with snmp as history:\n",
    "    snmp.set(test_obj_name, test_idx, 1)\n",
    "    snmp.get(test_obj_name, test_idx)\n",
    "    snmp.set(test_obj_name, test_idx, 0)\n",
    "    snmp.get(test_obj_name, test_idx)\n",
    "    history.show()"
   ]
  },
  {
   "cell_type": "code",
   "execution_count": 147,
   "id": "c8fe8036-2cb8-453b-adfa-bd64b8a30741",
   "metadata": {},
   "outputs": [
    {
     "name": "stdout",
     "output_type": "stream",
     "text": [
      "# show origin\n",
      "# get\n",
      "C:\\usr\\bin>snmpget -v1 -c public -m +IMP-HF528-MIB 172.16.10.8 iswQueueShaperMode.1\n",
      "IMP-HF528-MIB::iswQueueShaperMode.iswGEPort-1 = INTEGER: disable(0)\n",
      "\n",
      " ========================\n",
      "# set\n",
      "C:\\usr\\bin>snmpset -v1 -c public -m +IMP-HF528-MIB 172.16.10.8 iswQueueShaperMode.1 = 1\n",
      "IMP-HF528-MIB::iswQueueShaperMode.iswGEPort-1 = INTEGER: enable(1)\n",
      "\n",
      "# get\n",
      "C:\\usr\\bin>snmpget -v1 -c public -m +IMP-HF528-MIB 172.16.10.8 iswQueueShaperMode.1\n",
      "IMP-HF528-MIB::iswQueueShaperMode.iswGEPort-1 = INTEGER: enable(1)\n",
      "\n",
      "# set\n",
      "C:\\usr\\bin>snmpset -v1 -c public -m +IMP-HF528-MIB 172.16.10.8 iswQueueShaperMode.1 = 0\n",
      "IMP-HF528-MIB::iswQueueShaperMode.iswGEPort-1 = INTEGER: disable(0)\n",
      "\n",
      "# get\n",
      "C:\\usr\\bin>snmpget -v1 -c public -m +IMP-HF528-MIB 172.16.10.8 iswQueueShaperMode.1\n",
      "IMP-HF528-MIB::iswQueueShaperMode.iswGEPort-1 = INTEGER: disable(0)\n",
      "\n"
     ]
    }
   ],
   "source": [
    "# enable disable test\n",
    "test_obj_name = 'iswQueueShaperMode'\n",
    "test_idx = 1\n",
    "# \n",
    "print(\"# show origin\")\n",
    "snmp.get(test_obj_name, test_idx)\n",
    "print(\" ========================\")\n",
    "snmp.set(test_obj_name, test_idx, 1)\n",
    "snmp.get(test_obj_name, test_idx)\n",
    "snmp.set(test_obj_name, test_idx, 0)\n",
    "snmp.get(test_obj_name, test_idx)"
   ]
  },
  {
   "cell_type": "code",
   "execution_count": null,
   "id": "1762b42f-a29f-467c-b292-ff6c81bb9e50",
   "metadata": {},
   "outputs": [],
   "source": [
    "# range val Pick test.\n",
    "val_range =  [1, 1000000]\n",
    "test_pick_val =   1000000-1\n",
    "#\n",
    "test_obj_name = 'iswPortShaperPortRate'\n",
    "test_idx = 2\n",
    "# \n",
    "print(\"# show origin\")\n",
    "snmp.get(test_obj_name, test_idx)\n",
    "print(\" ========================\")\n",
    "snmp.set(test_obj_name, test_idx, val_range[0])\n",
    "snmp.get(test_obj_name, test_idx)\n",
    "snmp.set(test_obj_name, test_idx, test_pick_val)\n",
    "snmp.get(test_obj_name, test_idx)\n",
    "snmp.set(test_obj_name, test_idx, val_range[-1])\n",
    "snmp.get(test_obj_name, test_idx)"
   ]
  },
  {
   "cell_type": "code",
   "execution_count": null,
   "id": "3fad6d7f-d4ca-4186-bd03-d4fde7e2b000",
   "metadata": {},
   "outputs": [],
   "source": [
    "# back to default\n",
    "test_idx = 28\n",
    "test_obj_name = 'iswPortShaperPortRate'\n",
    "def_val = 1000000\n",
    "#\n",
    "snmp.set(test_obj_name, test_idx, def_val)"
   ]
  },
  {
   "cell_type": "code",
   "execution_count": null,
   "id": "07a31351-0715-4506-a71b-9c49025a07cd",
   "metadata": {},
   "outputs": [],
   "source": [
    "# val list test\n",
    "val_list = range(1, 3+1) #[0, 16, 32, 48, 64, 80, 96, 112, 128, 144, 160, 176, 192, 208, 224, 240]\n",
    "#\n",
    "test_idx = 9\n",
    "test_obj_name = 'iswportEnetSFPSpeed'\n",
    "#\n",
    "print(\"# show origin\")\n",
    "snmp.get(test_obj_name, test_idx)\n",
    "print(\" ======================\")\n",
    "snmp.test_get_continue_set(test_obj_name, test_idx, val_list)\n",
    "        "
   ]
  },
  {
   "cell_type": "code",
   "execution_count": null,
   "id": "081a7ffc-bbd5-49a3-9605-e886f115265b",
   "metadata": {},
   "outputs": [],
   "source": [
    "val_list = [0, 16, 32, 48, 64, 80, 96, 112, 128, 144, 160, 176, 192, 208, 224, 240]\n",
    "#\n",
    "test_idx = 20\n",
    "test_obj_name = 'iswStpPortPriority'\n",
    "#\n",
    "print(\"# show origin\")\n",
    "snmp.get(test_obj_name, test_idx)\n",
    "print(\" ======================\")\n",
    "snmp.test_get_continue_set(test_obj_name, test_idx, val_list)\n",
    "        "
   ]
  },
  {
   "cell_type": "code",
   "execution_count": null,
   "id": "8f19f9a6-a286-4070-871b-97930cd19148",
   "metadata": {},
   "outputs": [],
   "source": [
    "# multiple binding get \n",
    "\n",
    "from_mib=\"\"\"\n",
    " iswQueueShaperMode\n",
    " iswQueueShaperQ7Rate \n",
    " iswQueueShaperQ6Rate \n",
    " iswQueueShaperQ5Rate \n",
    " iswQueueShaperQ4Rate \n",
    " iswQueueShaperQ3Rate \n",
    " iswQueueShaperQ2Rate \n",
    " iswQueueShaperQ1Rate \n",
    "iswQueueShaperQ0Rate\n",
    "\"\"\"\n",
    "fields_list = snmp.multi_string_2_list(from_mib)\n",
    "_ = snmp.multiple_get(1, fields_list)\n"
   ]
  },
  {
   "cell_type": "code",
   "execution_count": null,
   "id": "8f5f340c-d632-4a4a-a55a-2716c15f013d",
   "metadata": {},
   "outputs": [],
   "source": [
    "fields_list"
   ]
  },
  {
   "cell_type": "code",
   "execution_count": null,
   "id": "9aa375e8-bf27-456a-9455-140f67ca7a61",
   "metadata": {},
   "outputs": [],
   "source": [
    "mib_field = {'\\\n",
    "iswAgingTime\tOBJECT-TYPE\\\n",
    "\t\tSYNTAX\t\tInteger32 ( 10 .. 600 )\\\n",
    "\t\tUNITS\t\t\"second\"\\\n",
    "\t\tMAX-ACCESS\tread-write'}             "
   ]
  },
  {
   "cell_type": "code",
   "execution_count": null,
   "id": "a9abe206-0487-4af8-a810-0379baeaebd3",
   "metadata": {},
   "outputs": [],
   "source": [
    "test_form =\\\n",
    "{\n",
    "    \"API\":\"SG\",\n",
    "    \"form_type\": \"Scale\",\n",
    "}"
   ]
  },
  {
   "cell_type": "code",
   "execution_count": null,
   "id": "0e16fab2-487d-45fd-ba38-2546282ccbca",
   "metadata": {},
   "outputs": [],
   "source": [
    "test_fields = [\n",
    "    {\"name\": \"iswAgingTime\", \"read_only\": False, \"value_list\": [], default_value=300},\n",
    "]"
   ]
  },
  {
   "cell_type": "code",
   "execution_count": null,
   "id": "93bc79fb-1976-48f7-ae73-c806108fe173",
   "metadata": {},
   "outputs": [],
   "source": [
    "[range(10,600)]"
   ]
  },
  {
   "cell_type": "code",
   "execution_count": null,
   "id": "8f24e5ac-0df1-476b-be3e-add7d340d5ed",
   "metadata": {},
   "outputs": [],
   "source": [
    "type(range(10, 600))"
   ]
  },
  {
   "cell_type": "code",
   "execution_count": null,
   "id": "c22e9504-65bd-4f62-b879-7f1a4d578e8a",
   "metadata": {},
   "outputs": [],
   "source": [
    "cmd = walk_command + \"iswTpFdbTable\""
   ]
  },
  {
   "cell_type": "code",
   "execution_count": null,
   "id": "11bc6f50-138d-4be6-9429-f7c86110dfb3",
   "metadata": {},
   "outputs": [],
   "source": [
    "raw_return = subprocess.check_output(cmd).decode('utf-8')\n",
    "format_prefix = r\"C:\\Users\\User>\"\n",
    "print(f\"{format_prefix}{cmd}\")  # first command\n",
    "print(f\"{raw_return}\")  # command output"
   ]
  },
  {
   "cell_type": "code",
   "execution_count": null,
   "id": "4c7f220e-c061-4bba-b3da-c2ee4ff91726",
   "metadata": {},
   "outputs": [],
   "source": []
  },
  {
   "cell_type": "code",
   "execution_count": null,
   "id": "3c3f14ac-0bd3-46c8-8d98-3f09ff5bdf2b",
   "metadata": {},
   "outputs": [],
   "source": [
    "# 使用情境\n",
    "# 測試 scaler \n",
    "scale('abc').get()\n",
    "scale('abc').set(299)\n",
    "scale('abc').get()\n",
    "\"\"\"\n",
    "# get\n",
    "C:\\Users\\User>snmpget -v1 -c public -m +IMP-HF528-MIB 172.16.10.8 iswAgingTime.0\n",
    "IMP-HF528-MIB::iswAgingTime.0 = INTEGER: 300 second\n",
    "# set\n",
    "C:\\Users\\User>snmpset -v1 -c public -m +IMP-HF528-MIB 172.16.10.8 iswAgingTime.0 = 299\n",
    "IMP-HF528-MIB::iswAgingTime.0 = INTEGER: 299 second\n",
    "# get\n",
    "C:\\Users\\User>snmpget -v1 -c public -m +IMP-HF528-MIB 172.16.10.8 iswAgingTime.0\n",
    "IMP-HF528-MIB::iswAgingTime.0 = INTEGER: 299 second\n",
    "\"\"\""
   ]
  },
  {
   "cell_type": "code",
   "execution_count": null,
   "id": "ce175046-e5f3-4951-a2fc-37d39cbe102e",
   "metadata": {},
   "outputs": [],
   "source": [
    "#  mib_parser\n",
    "raw_mib_txt=\"\"\"\n",
    "--1\n",
    "\tiswStpProtocol\tOBJECT-TYPE\n",
    "\t\tSYNTAX\t\tInteger32 { stp (0), rstp (1), mstp (2) }\n",
    "\t\tMAX-ACCESS\tread-write\n",
    "\t\tSTATUS\t\tcurrent\n",
    "\t\tDESCRIPTION\t\"STP protocol specification. Default value is stp (0).\"\n",
    "\t\tDEFVAL\t\t{ 0 }\n",
    "\t\t::= { iswStp 1 }\n",
    "--2 \n",
    "\tiswStpPriority\tOBJECT-TYPE\n",
    "\t\tSYNTAX\t\tInteger32 ( 0 | 4096 | 8192 | 12288 | 16384 | 20480 | 24576 | 28672 | \n",
    "\t\t\t\t\t\t\t\t32768 | 36864 | 40960 | 45056 | 49152 | 53248 | 57344 | 61440 )\n",
    "\t\tMAX-ACCESS\tread-write\n",
    "\t\tSTATUS\t\tcurrent\n",
    "\t\tDESCRIPTION\t\"STP priority. Default is 32768(0x8000). Step is 4096.\"\n",
    "\t\tDEFVAL\t\t{ 32768 }\n",
    "\t\t::= { iswStp 2 }\n",
    "--3\n",
    "\tiswStpTimeSinceTopologyChange\tOBJECT-TYPE\n",
    "\t\tSYNTAX\t\tGauge32  \n",
    "\t\tUNITS\t\t\"second\"\n",
    "\t\tMAX-ACCESS\tread-only\n",
    "\t\tSTATUS\t\tcurrent\n",
    "\t\tDESCRIPTION\t\"STP time since topology change.\"\n",
    "\t\t::= { iswStp 3 } \n",
    "--4 \n",
    "\tiswStpTopChanges\tOBJECT-TYPE\n",
    "\t\tSYNTAX\t\tGauge32\n",
    "\t\tMAX-ACCESS\tread-only\n",
    "\t\tSTATUS\t\tcurrent\n",
    "\t\tDESCRIPTION\t\"STP top changes.\"\n",
    "\t\t::= { iswStp 4 } \n",
    "--5 \n",
    "\tiswStpDesignatedRoot\tOBJECT-TYPE\n",
    "\t\tSYNTAX\t\tOCTET STRING ( SIZE (8) )\n",
    "\t\tMAX-ACCESS\tread-only\n",
    "\t\tSTATUS\t\tcurrent\n",
    "\t\tDESCRIPTION\t\"STP designated root.\"\n",
    "\t\t::= { iswStp 5 } \n",
    "--6\n",
    "\tiswStpBridgeID\tOBJECT-TYPE\n",
    "\t\tSYNTAX\t\tOCTET STRING ( SIZE (8) )\n",
    "\t\tMAX-ACCESS\tread-only\n",
    "\t\tSTATUS\t\tcurrent\n",
    "\t\tDESCRIPTION\t\"STP bridge port ID.\"\n",
    "\t\t::= { iswStp 6 } \n",
    "--7   \n",
    "\tiswStpRootCost\tOBJECT-TYPE\n",
    "\t\tSYNTAX\t\tInteger32\n",
    "\t\tMAX-ACCESS\tread-only\n",
    "\t\tSTATUS\t\tcurrent\n",
    "\t\tDESCRIPTION\t\"STP root cost.\"\n",
    "\t\t::= { iswStp 7 } \n",
    "--8\n",
    "\tiswStpRootPort\tOBJECT-TYPE\n",
    "\t\tSYNTAX\t\tInteger32\n",
    "\t\tMAX-ACCESS\tread-only\n",
    "\t\tSTATUS\t\tcurrent\n",
    "\t\tDESCRIPTION\t\"STP root port. 0 means NA(no root port).\"\n",
    "\t\t::= { iswStp 8 } \n",
    "--9   \n",
    "\tiswStpMaxAge\tOBJECT-TYPE\n",
    "\t\tSYNTAX\t\tInteger32\n",
    "\t\tMAX-ACCESS\tread-only\n",
    "\t\tSTATUS\t\tcurrent\n",
    "\t\tDESCRIPTION\t\"STP max age.\"\n",
    "\t\t::= { iswStp 9 } \n",
    "--10  \n",
    "\tiswStpHellowTime\tOBJECT-TYPE\n",
    "\t\tSYNTAX\t\tInteger32\n",
    "\t\tUNITS\t\t\"second\"\n",
    "\t\tMAX-ACCESS\tread-only\n",
    "\t\tSTATUS\t\tcurrent\n",
    "\t\tDESCRIPTION\t\"STP hellow time.\"\n",
    "\t\t::= { iswStp 10 } \n",
    "--11    \n",
    "\tiswStpHoldTime\tOBJECT-TYPE\n",
    "\t\tSYNTAX\t\tInteger32   \n",
    "\t\tUNITS\t\t\"second\"\n",
    "\t\tMAX-ACCESS\tread-only\n",
    "\t\tSTATUS\t\tcurrent\n",
    "\t\tDESCRIPTION\t\"STP hold time.\"\n",
    "\t\t::= { iswStp 11 } \n",
    "--12\n",
    "\tiswStpForwardDelay\tOBJECT-TYPE\n",
    "\t\tSYNTAX\t\tInteger32\n",
    "\t\tUNITS\t\t\"second\"\n",
    "\t\tMAX-ACCESS\tread-only\n",
    "\t\tSTATUS\t\tcurrent\n",
    "\t\tDESCRIPTION\t\"STP forward delay.\"\n",
    "\t\t::= { iswStp 12 } \n",
    "--13    \n",
    "\tiswStpBridgeMaxAge\tOBJECT-TYPE\n",
    "\t\tSYNTAX\t\tInteger32 ( 6 .. 40 ) \n",
    "\t\tUNITS\t\t\"second\"\n",
    "\t\tMAX-ACCESS\tread-write\n",
    "\t\tSTATUS\t\tcurrent\n",
    "\t\tDESCRIPTION\t\"STP bridge max age. Default value is 20.\n",
    "\t\t\t\t\tThe iswStpBridgeMaxAge, iswStpBridgeHellowTime and iswStpBridgeForwardDelay times are constrained as follows:\n",
    "\t\t\t\t\t2 x (iswStpBridgeForwardDelay - 1) >= iswStpBridgeMaxAge >= 2 x (iswStpBridgeHellowTime + 1)\"\n",
    "\t\tDEFVAL\t\t{ 20 }\n",
    "\t\t::= { iswStp 13 } \n",
    "--14 \n",
    "\tiswStpBridgeHellowTime\tOBJECT-TYPE\n",
    "\t\tSYNTAX\t\tInteger32 ( 1 .. 10 )\n",
    "\t\tUNITS\t\t\"second\"\n",
    "\t\tMAX-ACCESS\tread-write\n",
    "\t\tSTATUS\t\tcurrent\n",
    "\t\tDESCRIPTION\t\"STP bridge hellow time. Default value is 2.\n",
    "\t\t\t\t\tThe iswStpBridgeMaxAge, iswStpBridgeHellowTime and iswStpBridgeForwardDelay times are constrained as follows:\n",
    "\t\t\t\t\t2 x (iswStpBridgeForwardDelay - 1) >= iswStpBridgeMaxAge >= 2 x (iswStpBridgeHellowTime + 1)\"    \n",
    "\t\tDEFVAL\t\t{ 2 }\n",
    "\t\t::= { iswStp 14 } \n",
    "--15  \n",
    "\tiswStpBridgeForwardDelay\tOBJECT-TYPE\n",
    "\t\tSYNTAX\t\tInteger32 ( 4 .. 30 )\n",
    "\t\tUNITS\t\t\"second\"\n",
    "\t\tMAX-ACCESS\tread-write\n",
    "\t\tSTATUS\t\tcurrent\n",
    "\t\tDESCRIPTION\t\"STP bridge forward delay. Default value is 15.\n",
    "\t\t\t\t\tThe iswStpBridgeMaxAge, iswStpBridgeHellowTime and iswStpBridgeForwardDelay times are constrained as follows:\n",
    "\t\t\t\t\t2 x (iswStpBridgeForwardDelay - 1) >= iswStpBridgeMaxAge >= 2 x (iswStpBridgeHellowTime + 1)\"\n",
    "\t\tDEFVAL\t\t{ 15 }\n",
    "\t\t::= { iswStp 15 } \n",
    "--16    \n",
    "\tiswStpBridgeModeSet\tOBJECT-TYPE\n",
    "\t\tSYNTAX\t\tInteger32 { disable (0), enable (1) }\n",
    "\t\tMAX-ACCESS\tread-write\n",
    "\t\tSTATUS\t\tcurrent\n",
    "\t\tDESCRIPTION\t\"STP bridge mode set. Default value is disable (0).\n",
    "\t\t\t\t\tIf any ring group is enabled (iswRingProtectRingMode is enable), set this field to enable will be rejected.\"\n",
    "\t\tDEFVAL\t\t{ 0 }\n",
    "\t\t::= { iswStp 16 } \n",
    "--17    \n",
    "\tiswStpBpduFilter\tOBJECT-TYPE\n",
    "\t\tSYNTAX\t\tInteger32 { deny (1), flooding (2) }\n",
    "\t\tMAX-ACCESS\tread-write\n",
    "\t\tSTATUS\t\tcurrent\n",
    "\t\tDESCRIPTION\t\"STP bpdu filter. Default value is deny (1).\"  \n",
    "\t\tDEFVAL\t\t{ 1 }\n",
    "\t\t::= { iswStp 17 } \n",
    "--18\n",
    "\tiswStpRegionName\tOBJECT-TYPE\n",
    "\t\tSYNTAX\t\tOCTET STRING ( SIZE ( 0 .. 32 ) )\n",
    "\t\tMAX-ACCESS\tread-write\n",
    "\t\tSTATUS\t\tcurrent\n",
    "\t\tDESCRIPTION\t\"STP Region Name. Default value is emtpy. Max size is 32 chars, preferably in human-readable form.\"  \n",
    "\t\t::= { iswStp 18 } \n",
    "--19\n",
    "\tiswStpMSTRevLevel\tOBJECT-TYPE\n",
    "\t\tSYNTAX\t\tInteger32 ( 0 .. 65535 )\n",
    "\t\tMAX-ACCESS\tread-write\n",
    "\t\tSTATUS\t\tcurrent\n",
    "\t\tDESCRIPTION\t\"MST Revision Level. Default value is 0.\"  \n",
    "\t\tDEFVAL\t\t{ 0 }\n",
    "\t\t::= { iswStp 19 } \n",
    "\"\"\""
   ]
  },
  {
   "cell_type": "code",
   "execution_count": null,
   "id": "61209976-a52f-4499-bab1-5dc02869832e",
   "metadata": {},
   "outputs": [],
   "source": [
    "_ = [__.replace('\\t',' ').strip() for __ in raw_mib_txt.split('\\n')]"
   ]
  },
  {
   "cell_type": "code",
   "execution_count": null,
   "id": "6c3d6c61-effe-4749-8109-4607c0f276bf",
   "metadata": {},
   "outputs": [],
   "source": [
    "for txt in _:\n",
    "    print(txt)"
   ]
  },
  {
   "cell_type": "code",
   "execution_count": null,
   "id": "03edca84-c1e5-4f4e-8d57-e8ebb249d1d2",
   "metadata": {},
   "outputs": [],
   "source": [
    "#"
   ]
  }
 ],
 "metadata": {
  "kernelspec": {
   "display_name": "Python 3 (ipykernel)",
   "language": "python",
   "name": "python3"
  },
  "language_info": {
   "codemirror_mode": {
    "name": "ipython",
    "version": 3
   },
   "file_extension": ".py",
   "mimetype": "text/x-python",
   "name": "python",
   "nbconvert_exporter": "python",
   "pygments_lexer": "ipython3",
   "version": "3.9.12"
  }
 },
 "nbformat": 4,
 "nbformat_minor": 5
}
